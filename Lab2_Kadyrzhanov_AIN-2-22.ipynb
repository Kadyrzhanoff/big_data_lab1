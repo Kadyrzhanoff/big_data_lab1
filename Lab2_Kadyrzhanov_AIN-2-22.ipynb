{
 "cells": [
  {
   "cell_type": "code",
   "execution_count": 3,
   "id": "388d2536-8f1b-43bb-ac10-08c3e4535294",
   "metadata": {},
   "outputs": [
    {
     "name": "stdout",
     "output_type": "stream",
     "text": [
      "       Country  Year Total Population Urban Population Rural Population  \\\n",
      "0  Afghanistan  2017                -                -                -   \n",
      "1  Afghanistan  2018       36,686,784        9,353,296       27,333,488   \n",
      "\n",
      "  Population Density Life Expectancy  Birth Rate  Death Rate Fertility Rate  \\\n",
      "0                 55            63.0      37.342       7.027          5.129   \n",
      "1                 56            63.0      36.927       6.981          5.002   \n",
      "\n",
      "  Infant Mortality Rate Growth Rate  \n",
      "0                  49.4           -  \n",
      "1                  47.8         3.0  \n"
     ]
    }
   ],
   "source": [
    "import pandas as pd\n",
    "\n",
    "file_path = r'C:\\Users\\ACER\\Downloads\\archive\\Global Population Trends(2016-2022).csv'\n",
    "\n",
    "data = pd.read_csv(file_path)\n",
    "print(data.head(2))\n",
    "\n"
   ]
  },
  {
   "cell_type": "code",
   "execution_count": 4,
   "id": "0b705d75-8892-45b7-8096-eb668996970e",
   "metadata": {},
   "outputs": [
    {
     "name": "stdout",
     "output_type": "stream",
     "text": [
      "(1073, 12)\n"
     ]
    }
   ],
   "source": [
    "print(data.shape)"
   ]
  },
  {
   "cell_type": "code",
   "execution_count": 5,
   "id": "587ecf3f-970a-418b-b34b-034fe1334b38",
   "metadata": {},
   "outputs": [
    {
     "name": "stdout",
     "output_type": "stream",
     "text": [
      "Index(['Country', 'Year', 'Total Population', 'Urban Population',\n",
      "       'Rural Population', 'Population Density', 'Life Expectancy',\n",
      "       'Birth Rate', 'Death Rate', 'Fertility Rate', 'Infant Mortality Rate',\n",
      "       'Growth Rate'],\n",
      "      dtype='object')\n"
     ]
    }
   ],
   "source": [
    "print(data.columns)"
   ]
  },
  {
   "cell_type": "code",
   "execution_count": 6,
   "id": "fe3d5fe6-8908-4706-891e-b187f48b52d5",
   "metadata": {},
   "outputs": [
    {
     "name": "stdout",
     "output_type": "stream",
     "text": [
      "<class 'pandas.core.frame.DataFrame'>\n",
      "RangeIndex: 1073 entries, 0 to 1072\n",
      "Data columns (total 12 columns):\n",
      " #   Column                 Non-Null Count  Dtype  \n",
      "---  ------                 --------------  -----  \n",
      " 0   Country                1073 non-null   object \n",
      " 1   Year                   1073 non-null   int64  \n",
      " 2   Total Population       1073 non-null   object \n",
      " 3   Urban Population       1073 non-null   object \n",
      " 4   Rural Population       1073 non-null   object \n",
      " 5   Population Density     1073 non-null   object \n",
      " 6   Life Expectancy        1073 non-null   object \n",
      " 7   Birth Rate             1073 non-null   float64\n",
      " 8   Death Rate             1073 non-null   float64\n",
      " 9   Fertility Rate         1073 non-null   object \n",
      " 10  Infant Mortality Rate  1073 non-null   object \n",
      " 11  Growth Rate            1073 non-null   object \n",
      "dtypes: float64(2), int64(1), object(9)\n",
      "memory usage: 100.7+ KB\n",
      "None\n"
     ]
    }
   ],
   "source": [
    "print(data.info())"
   ]
  },
  {
   "cell_type": "code",
   "execution_count": 7,
   "id": "58eb5e06-3fb6-4bfd-b73e-23bc084cf120",
   "metadata": {},
   "outputs": [
    {
     "name": "stdout",
     "output_type": "stream",
     "text": [
      "          Country  Year Total Population Urban Population Rural Population  \\\n",
      "1     Afghanistan  2018       36,686,784        9,353,296       27,333,488   \n",
      "2     Afghanistan  2019       37,769,499        9,727,157       28,042,342   \n",
      "3     Afghanistan  2020       38,972,230       10,142,913       28,829,317   \n",
      "4     Afghanistan  2021       40,099,462       10,551,772       29,547,690   \n",
      "6         Albania  2018        2,866,376        1,728,969        1,137,407   \n",
      "...           ...   ...              ...              ...              ...   \n",
      "1067       Zambia  2021       19,473,125        8,800,295       10,672,830   \n",
      "1069     Zimbabwe  2018       15,052,184        4,848,158       10,204,026   \n",
      "1070     Zimbabwe  2019       15,354,608        4,945,719       10,408,889   \n",
      "1071     Zimbabwe  2020       15,669,666        5,052,214       10,617,452   \n",
      "1072     Zimbabwe  2021       15,993,524        5,166,388       10,827,136   \n",
      "\n",
      "     Population Density Life Expectancy  Birth Rate  Death Rate  \\\n",
      "1                    56            63.0      36.927       6.981   \n",
      "2                    58            64.0      36.466       6.791   \n",
      "3                    60            63.0      36.051       7.113   \n",
      "4                     -            62.0      35.842       7.344   \n",
      "6                   105            79.0      10.517       8.308   \n",
      "...                 ...             ...         ...         ...   \n",
      "1067                  -            61.0      34.511       6.973   \n",
      "1069                 39            61.0      32.074       7.972   \n",
      "1070                 40            61.0      31.518       8.043   \n",
      "1071                 41            61.0      31.009       8.132   \n",
      "1072                  -            59.0      30.537       9.057   \n",
      "\n",
      "     Fertility Rate Infant Mortality Rate Growth Rate  \n",
      "1             5.002                  47.8         3.0  \n",
      "2              4.87                  46.3         3.0  \n",
      "3              4.75                  44.8         3.0  \n",
      "4             4.643                  43.4         3.0  \n",
      "6              1.44                   8.3         0.0  \n",
      "...             ...                   ...         ...  \n",
      "1067          4.308                  40.2         3.0  \n",
      "1069          3.659                  38.0         2.0  \n",
      "1070          3.599                  37.1         2.0  \n",
      "1071          3.545                  36.6         2.0  \n",
      "1072          3.491                  35.7         2.0  \n",
      "\n",
      "[864 rows x 12 columns]\n"
     ]
    }
   ],
   "source": [
    "df1=data[data['Total Population']!='-']\n",
    "print(df1)"
   ]
  },
  {
   "cell_type": "code",
   "execution_count": 8,
   "id": "90b8f00f-878b-419d-9837-fc6f937ff9c8",
   "metadata": {},
   "outputs": [
    {
     "name": "stdout",
     "output_type": "stream",
     "text": [
      "Country                    Zimbabwe\n",
      "Year                           2021\n",
      "Total Population             99,258\n",
      "Urban Population         99,876,265\n",
      "Rural Population            998,397\n",
      "Population Density               99\n",
      "Life Expectancy                85.0\n",
      "Birth Rate                   46.351\n",
      "Death Rate                     21.7\n",
      "Fertility Rate                7.084\n",
      "Infant Mortality Rate           9.9\n",
      "Growth Rate                     5.0\n",
      "dtype: object\n"
     ]
    }
   ],
   "source": [
    "print(data.max())"
   ]
  },
  {
   "cell_type": "code",
   "execution_count": 9,
   "id": "18b2ecd8-3577-45b8-9811-5e958d03b808",
   "metadata": {},
   "outputs": [
    {
     "name": "stdout",
     "output_type": "stream",
     "text": [
      "Country                  Afghanistan\n",
      "Year                            2017\n",
      "Total Population                   -\n",
      "Urban Population                   -\n",
      "Rural Population                   -\n",
      "Population Density                 -\n",
      "Life Expectancy                    -\n",
      "Birth Rate                       0.0\n",
      "Death Rate                       0.0\n",
      "Fertility Rate                     -\n",
      "Infant Mortality Rate              -\n",
      "Growth Rate                        -\n",
      "dtype: object\n"
     ]
    }
   ],
   "source": [
    "print(data.min())"
   ]
  },
  {
   "cell_type": "code",
   "execution_count": 10,
   "id": "43aee779-313f-48c8-9132-dd5976dcf808",
   "metadata": {},
   "outputs": [
    {
     "name": "stdout",
     "output_type": "stream",
     "text": [
      "              Year   Birth Rate   Death Rate\n",
      "count  1073.000000  1073.000000  1073.000000\n",
      "mean   2019.013048    18.801519     7.841907\n",
      "std       1.410190     9.903449     2.973418\n",
      "min    2017.000000     0.000000     0.000000\n",
      "25%    2018.000000    10.620000     6.067000\n",
      "50%    2019.000000    16.025000     7.396000\n",
      "75%    2020.000000    25.921000     9.313000\n",
      "max    2021.000000    46.351000    21.700000\n"
     ]
    }
   ],
   "source": [
    "print(data.describe())"
   ]
  },
  {
   "cell_type": "code",
   "execution_count": 15,
   "id": "50f1a5ac-71da-414b-b553-6e2ee8cd3f7e",
   "metadata": {},
   "outputs": [
    {
     "data": {
      "text/html": [
       "<div>\n",
       "<style scoped>\n",
       "    .dataframe tbody tr th:only-of-type {\n",
       "        vertical-align: middle;\n",
       "    }\n",
       "\n",
       "    .dataframe tbody tr th {\n",
       "        vertical-align: top;\n",
       "    }\n",
       "\n",
       "    .dataframe thead th {\n",
       "        text-align: right;\n",
       "    }\n",
       "</style>\n",
       "<table border=\"1\" class=\"dataframe\">\n",
       "  <thead>\n",
       "    <tr style=\"text-align: right;\">\n",
       "      <th></th>\n",
       "      <th>Country</th>\n",
       "      <th>Year</th>\n",
       "      <th>Total Population</th>\n",
       "      <th>Urban Population</th>\n",
       "      <th>Rural Population</th>\n",
       "      <th>Population Density</th>\n",
       "      <th>Life Expectancy</th>\n",
       "      <th>Birth Rate</th>\n",
       "      <th>Death Rate</th>\n",
       "      <th>Fertility Rate</th>\n",
       "      <th>Infant Mortality Rate</th>\n",
       "      <th>Growth Rate</th>\n",
       "    </tr>\n",
       "  </thead>\n",
       "  <tbody>\n",
       "    <tr>\n",
       "      <th>1072</th>\n",
       "      <td>Zimbabwe</td>\n",
       "      <td>2021</td>\n",
       "      <td>15,993,524</td>\n",
       "      <td>5,166,388</td>\n",
       "      <td>10,827,136</td>\n",
       "      <td>-</td>\n",
       "      <td>59.0</td>\n",
       "      <td>30.537</td>\n",
       "      <td>9.057</td>\n",
       "      <td>3.491</td>\n",
       "      <td>35.7</td>\n",
       "      <td>2.0</td>\n",
       "    </tr>\n",
       "    <tr>\n",
       "      <th>1069</th>\n",
       "      <td>Zimbabwe</td>\n",
       "      <td>2018</td>\n",
       "      <td>15,052,184</td>\n",
       "      <td>4,848,158</td>\n",
       "      <td>10,204,026</td>\n",
       "      <td>39</td>\n",
       "      <td>61.0</td>\n",
       "      <td>32.074</td>\n",
       "      <td>7.972</td>\n",
       "      <td>3.659</td>\n",
       "      <td>38.0</td>\n",
       "      <td>2.0</td>\n",
       "    </tr>\n",
       "    <tr>\n",
       "      <th>1068</th>\n",
       "      <td>Zimbabwe</td>\n",
       "      <td>2017</td>\n",
       "      <td>-</td>\n",
       "      <td>-</td>\n",
       "      <td>-</td>\n",
       "      <td>38</td>\n",
       "      <td>61.0</td>\n",
       "      <td>32.516</td>\n",
       "      <td>8.266</td>\n",
       "      <td>3.706</td>\n",
       "      <td>39.5</td>\n",
       "      <td>-</td>\n",
       "    </tr>\n",
       "    <tr>\n",
       "      <th>1071</th>\n",
       "      <td>Zimbabwe</td>\n",
       "      <td>2020</td>\n",
       "      <td>15,669,666</td>\n",
       "      <td>5,052,214</td>\n",
       "      <td>10,617,452</td>\n",
       "      <td>41</td>\n",
       "      <td>61.0</td>\n",
       "      <td>31.009</td>\n",
       "      <td>8.132</td>\n",
       "      <td>3.545</td>\n",
       "      <td>36.6</td>\n",
       "      <td>2.0</td>\n",
       "    </tr>\n",
       "    <tr>\n",
       "      <th>1070</th>\n",
       "      <td>Zimbabwe</td>\n",
       "      <td>2019</td>\n",
       "      <td>15,354,608</td>\n",
       "      <td>4,945,719</td>\n",
       "      <td>10,408,889</td>\n",
       "      <td>40</td>\n",
       "      <td>61.0</td>\n",
       "      <td>31.518</td>\n",
       "      <td>8.043</td>\n",
       "      <td>3.599</td>\n",
       "      <td>37.1</td>\n",
       "      <td>2.0</td>\n",
       "    </tr>\n",
       "  </tbody>\n",
       "</table>\n",
       "</div>"
      ],
      "text/plain": [
       "       Country  Year Total Population Urban Population Rural Population  \\\n",
       "1072  Zimbabwe  2021       15,993,524        5,166,388       10,827,136   \n",
       "1069  Zimbabwe  2018       15,052,184        4,848,158       10,204,026   \n",
       "1068  Zimbabwe  2017                -                -                -   \n",
       "1071  Zimbabwe  2020       15,669,666        5,052,214       10,617,452   \n",
       "1070  Zimbabwe  2019       15,354,608        4,945,719       10,408,889   \n",
       "\n",
       "     Population Density Life Expectancy  Birth Rate  Death Rate  \\\n",
       "1072                  -            59.0      30.537       9.057   \n",
       "1069                 39            61.0      32.074       7.972   \n",
       "1068                 38            61.0      32.516       8.266   \n",
       "1071                 41            61.0      31.009       8.132   \n",
       "1070                 40            61.0      31.518       8.043   \n",
       "\n",
       "     Fertility Rate Infant Mortality Rate Growth Rate  \n",
       "1072          3.491                  35.7         2.0  \n",
       "1069          3.659                  38.0         2.0  \n",
       "1068          3.706                  39.5           -  \n",
       "1071          3.545                  36.6         2.0  \n",
       "1070          3.599                  37.1         2.0  "
      ]
     },
     "execution_count": 15,
     "metadata": {},
     "output_type": "execute_result"
    }
   ],
   "source": [
    "data = data.sort_values(by = 'Country', ascending = False )\n",
    "data.head()"
   ]
  },
  {
   "cell_type": "code",
   "execution_count": 3,
   "id": "00e859a1-1df5-42b9-836e-0f5355e49c2c",
   "metadata": {},
   "outputs": [
    {
     "name": "stdout",
     "output_type": "stream",
     "text": [
      "[  5  10  15  20  25  30  35  40  45  50  55  60  65  70  75  80  85  90\n",
      "  95 100]\n"
     ]
    }
   ],
   "source": [
    "import numpy as np\n",
    "\n",
    "my_array = np.arange(5, 101, 5)\n",
    "print(my_array)"
   ]
  },
  {
   "cell_type": "code",
   "execution_count": 4,
   "id": "c547d9f9-3b57-4151-86e2-163d025fb3f6",
   "metadata": {},
   "outputs": [
    {
     "name": "stdout",
     "output_type": "stream",
     "text": [
      "[ 10  20  30  40  50  60  70  80  90 100]\n"
     ]
    }
   ],
   "source": [
    "my_array_10 = my_array[my_array % 10 == 0]\n",
    "print(my_array_10)"
   ]
  },
  {
   "cell_type": "code",
   "execution_count": 5,
   "id": "31d45e76-62bc-457c-921c-b27d11e4c4b7",
   "metadata": {},
   "outputs": [
    {
     "name": "stdout",
     "output_type": "stream",
     "text": [
      "[[  5  10]\n",
      " [ 15  20]\n",
      " [ 25  30]\n",
      " [ 35  40]\n",
      " [ 45  50]\n",
      " [ 55  60]\n",
      " [ 65  70]\n",
      " [ 75  80]\n",
      " [ 85  90]\n",
      " [ 95 100]]\n"
     ]
    }
   ],
   "source": [
    "my_array_2d = my_array.reshape(-1, 2)\n",
    "print(my_array_2d)"
   ]
  },
  {
   "cell_type": "code",
   "execution_count": 6,
   "id": "dc94da7f-13c0-4c79-b9a7-529391f49295",
   "metadata": {},
   "outputs": [
    {
     "name": "stdout",
     "output_type": "stream",
     "text": [
      "[[ 0  5]\n",
      " [10 15]\n",
      " [20 25]\n",
      " [30 35]\n",
      " [40 45]\n",
      " [50 55]\n",
      " [60 65]\n",
      " [70 75]\n",
      " [80 85]\n",
      " [90 95]]\n"
     ]
    }
   ],
   "source": [
    "my_second_array = my_array_2d - 5\n",
    "print(my_second_array)"
   ]
  },
  {
   "cell_type": "code",
   "execution_count": 7,
   "id": "5137fba6-92b6-499e-95f0-c209b95f44ca",
   "metadata": {},
   "outputs": [
    {
     "name": "stdout",
     "output_type": "stream",
     "text": [
      "[[  5  10   0   5]\n",
      " [ 15  20  10  15]\n",
      " [ 25  30  20  25]\n",
      " [ 35  40  30  35]\n",
      " [ 45  50  40  45]\n",
      " [ 55  60  50  55]\n",
      " [ 65  70  60  65]\n",
      " [ 75  80  70  75]\n",
      " [ 85  90  80  85]\n",
      " [ 95 100  90  95]]\n"
     ]
    }
   ],
   "source": [
    "combined_array = np.hstack((my_array_2d, my_second_array))\n",
    "\n",
    "print(combined_array)"
   ]
  },
  {
   "cell_type": "code",
   "execution_count": 11,
   "id": "488b0ed7-d930-409a-8a55-534e62f6b664",
   "metadata": {},
   "outputs": [
    {
     "name": "stdout",
     "output_type": "stream",
     "text": [
      "[0.42857143 0.5        0.33333333 0.42857143]\n",
      "[0.42857143 0.5        0.33333333 0.42857143]\n"
     ]
    }
   ],
   "source": [
    "sec_delit = combined_array[1]/combined_array[3]\n",
    "thd_delit = combined_array[1]/combined_array[3]\n",
    "\n",
    "print(sec_delit)\n",
    "print(thd_delit)"
   ]
  },
  {
   "cell_type": "code",
   "execution_count": 12,
   "id": "6ec169a1-7256-437b-bb9d-a41eb0cb4764",
   "metadata": {},
   "outputs": [
    {
     "name": "stdout",
     "output_type": "stream",
     "text": [
      "[[  5.          10.           0.           5.        ]\n",
      " [  0.42857143   0.5          0.33333333   0.42857143]\n",
      " [  0.42857143   0.5          0.33333333   0.42857143]\n",
      " [ 35.          40.          30.          35.        ]\n",
      " [ 45.          50.          40.          45.        ]\n",
      " [ 55.          60.          50.          55.        ]\n",
      " [ 65.          70.          60.          65.        ]\n",
      " [ 75.          80.          70.          75.        ]\n",
      " [ 85.          90.          80.          85.        ]\n",
      " [ 95.         100.          90.          95.        ]]\n"
     ]
    }
   ],
   "source": [
    "combined_array_2 = combined_array.copy().astype(float)\n",
    "combined_array_2[1]= sec_delit\n",
    "combined_array_2[2]= thd_delit\n",
    "print(combined_array_2)"
   ]
  },
  {
   "cell_type": "code",
   "execution_count": 13,
   "id": "e35a0f95-6f7c-45cc-b584-1049a4104d8e",
   "metadata": {},
   "outputs": [
    {
     "name": "stdout",
     "output_type": "stream",
     "text": [
      "[[  5.  10.   0.   5.]\n",
      " [ 35.  40.  30.  35.]\n",
      " [ 45.  50.  40.  45.]\n",
      " [ 55.  60.  50.  55.]\n",
      " [ 65.  70.  60.  65.]\n",
      " [ 75.  80.  70.  75.]\n",
      " [ 85.  90.  80.  85.]\n",
      " [ 95. 100.  90.  95.]]\n"
     ]
    }
   ],
   "source": [
    "similar_elements = np.all(combined_array_2 == combined_array, axis=1)\n",
    "unchanged_elements = combined_array_2[similar_elements]  \n",
    "print(unchanged_elements)"
   ]
  },
  {
   "cell_type": "code",
   "execution_count": 16,
   "id": "7b99854d-20b9-4ca6-8504-09fbeca0b3af",
   "metadata": {},
   "outputs": [
    {
     "name": "stdout",
     "output_type": "stream",
     "text": [
      "[[ 5. 10.  0.  5.]\n",
      " [35. 40. 30. 35.]\n",
      " [45. 50. 40. 45.]]\n"
     ]
    }
   ],
   "source": [
    "three_line = unchanged_elements[:3]\n",
    "print(tri_stroki)"
   ]
  },
  {
   "cell_type": "code",
   "execution_count": 17,
   "id": "d6c214fe-354f-4f83-9991-2b68025ceb40",
   "metadata": {},
   "outputs": [
    {
     "name": "stdout",
     "output_type": "stream",
     "text": [
      "[[45. 50. 40. 45.]\n",
      " [35. 40. 30. 35.]\n",
      " [ 5. 10.  0.  5.]]\n"
     ]
    }
   ],
   "source": [
    "three_line[[0,2]]=three_line[[2,0]]\n",
    "print(three_line)"
   ]
  },
  {
   "cell_type": "code",
   "execution_count": 18,
   "id": "018e9758-4ff9-45c0-aff3-8f543e2b4943",
   "metadata": {},
   "outputs": [
    {
     "name": "stdout",
     "output_type": "stream",
     "text": [
      "Среднее: [45. 35.  5.]\n",
      "Медиана: [45. 35.  5.]\n",
      "Стандартное отклонение: [3.53553391 3.53553391 3.53553391]\n"
     ]
    }
   ],
   "source": [
    "mean_values = np.mean(three_line, axis=1)\n",
    "median_values = np.median(three_line, axis=1)\n",
    "std_values = np.std(three_line, axis=1)\n",
    "\n",
    "print(\"Среднее:\", mean_values)\n",
    "print(\"Медиана:\", median_values)\n",
    "print(\"Стандартное отклонение:\", std_values)"
   ]
  },
  {
   "cell_type": "code",
   "execution_count": 19,
   "id": "89425967-8a33-444d-b95a-2fd29b22ca4d",
   "metadata": {},
   "outputs": [
    {
     "name": "stdout",
     "output_type": "stream",
     "text": [
      "[[0.9   1.    0.8   0.9  ]\n",
      " [0.875 1.    0.75  0.875]\n",
      " [0.5   1.    0.    0.5  ]]\n"
     ]
    }
   ],
   "source": [
    "normalized_array = three_line / np.max(three_line, axis=1, keepdims=True)\n",
    "print(normalized_array)"
   ]
  }
 ],
 "metadata": {
  "kernelspec": {
   "display_name": "Python 3 (ipykernel)",
   "language": "python",
   "name": "python3"
  },
  "language_info": {
   "codemirror_mode": {
    "name": "ipython",
    "version": 3
   },
   "file_extension": ".py",
   "mimetype": "text/x-python",
   "name": "python",
   "nbconvert_exporter": "python",
   "pygments_lexer": "ipython3",
   "version": "3.9.13"
  }
 },
 "nbformat": 4,
 "nbformat_minor": 5
}
