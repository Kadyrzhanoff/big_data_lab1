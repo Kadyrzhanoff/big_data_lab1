{
 "cells": [
  {
   "cell_type": "code",
   "execution_count": 2,
   "id": "2af012b0-a797-4d9e-878b-57d96be2d1b8",
   "metadata": {},
   "outputs": [],
   "source": [
    "import csv\n",
    "\n",
    "reviews = [\n",
    "    {\"category\": \"Отличное блюдо\", \"review\": \"Это блюдо превзошло все мои ожидания! Нежный вкус и изысканное сочетание специй сделали его незабываемым.\"},\n",
    "    {\"category\": \"Отличное блюдо\", \"review\": \"Я в восторге от этого блюда! Прекрасная подача, аромат и вкус были великолепными.\"},\n",
    "    {\"category\": \"Отличное блюдо\", \"review\": \"Это идеальный пример того, как простые ингредиенты могут создать шедевр. Еда буквально тает во рту.\"},\n",
    "    {\"category\": \"Отличное блюдо\", \"review\": \"Блюдо было настолько вкусным, что я не мог остановиться, пока всё не съел. Это настоящее произведение искусства.\"},\n",
    "    {\"category\": \"Отличное блюдо\", \"review\": \"Каждый кусочек этого блюда дарил наслаждение. Прекрасное сочетание текстур и ароматов!\"},\n",
    "    {\"category\": \"Отличное блюдо\", \"review\": \"Пожалуй, это лучшее блюдо, которое я пробовал за последнее время. Браво шеф-повару!\"},\n",
    "    {\"category\": \"Отличное блюдо\", \"review\": \"Блюдо было приготовлено идеально: сочное, ароматное и с восхитительным вкусом. Настоятельно рекомендую!\"},\n",
    "    {\"category\": \"Отличное блюдо\", \"review\": \"Я получил настоящее удовольствие от этого блюда. Ингредиенты были свежими, а вкус – потрясающим.\"},\n",
    "    {\"category\": \"Отличное блюдо\", \"review\": \"Настоящий праздник для вкусовых рецепторов! Блюдо великолепно сбалансировано и просто тает во рту.\"},\n",
    "    {\"category\": \"Отличное блюдо\", \"review\": \"Изысканное блюдо с богатым вкусом. Оно стало настоящей изюминкой вечера.\"},\n",
    "    {\"category\": \"Плохое блюдо\", \"review\": \"Блюдо оказалось пресным и безвкусным. Ожидал большего от такого известного ресторана.\"},\n",
    "    {\"category\": \"Плохое блюдо\", \"review\": \"К сожалению, это блюдо разочаровало. Оно было пересолено и имело неприятный привкус.\"},\n",
    "    {\"category\": \"Плохое блюдо\", \"review\": \"Порция была слишком маленькой, а вкус – ничем не примечательным. Деньги на ветер.\"},\n",
    "    {\"category\": \"Плохое блюдо\", \"review\": \"Мясо было пережарено, а гарнир напоминал вчерашние остатки. Очень разочарован.\"},\n",
    "    {\"category\": \"Плохое блюдо\", \"review\": \"Блюдо выглядело аппетитно, но на вкус оказалось совершенно безвкусным. Разочарование вечера.\"},\n",
    "    {\"category\": \"Плохое блюдо\", \"review\": \"Качество ингредиентов оставляет желать лучшего. Это блюдо не стоит своих денег.\"},\n",
    "    {\"category\": \"Плохое блюдо\", \"review\": \"Еда была холодной, а обслуживание оставляло желать лучшего. Это явно не лучший ресторан.\"},\n",
    "    {\"category\": \"Плохое блюдо\", \"review\": \"Блюдо оказалось сырым, и это испортило всё впечатление. Не рекомендую.\"},\n",
    "    {\"category\": \"Плохое блюдо\", \"review\": \"Соус был слишком жидким, а основной ингредиент – слишком сухим. Неприятное сочетание.\"},\n",
    "    {\"category\": \"Плохое блюдо\", \"review\": \"На первый взгляд всё выглядело хорошо, но вкус полностью разочаровал. Я остался голодным.\"}\n",
    "]\n",
    "\n",
    "with open(\"dish_reviews.csv\", mode=\"w\", encoding=\"utf-8\", newline=\"\") as file:\n",
    "    writer = csv.DictWriter(file, fieldnames=[\"category\", \"review\"])\n",
    "    writer.writeheader()\n",
    "    writer.writerows(reviews)\n",
    "\n",
    "reviews = []\n",
    "with open(\"dish_reviews.csv\", mode=\"r\", encoding=\"utf-8\") as file:\n",
    "    reader = csv.DictReader(file)\n",
    "    for row in reader:\n",
    "        reviews.append(row)"
   ]
  },
  {
   "cell_type": "code",
   "execution_count": 3,
   "id": "df9265d2-63b2-4b8a-a07b-277506cf19c9",
   "metadata": {},
   "outputs": [
    {
     "name": "stdout",
     "output_type": "stream",
     "text": [
      "Категория: Отличное блюдо\n",
      "Отзыв: Это блюдо превзошло все мои ожидания! Нежный вкус и изысканное сочетание специй сделали его незабываемым.\n",
      "\n",
      "Категория: Отличное блюдо\n",
      "Отзыв: Я в восторге от этого блюда! Прекрасная подача, аромат и вкус были великолепными.\n",
      "\n",
      "Категория: Отличное блюдо\n",
      "Отзыв: Это идеальный пример того, как простые ингредиенты могут создать шедевр. Еда буквально тает во рту.\n",
      "\n",
      "Категория: Отличное блюдо\n",
      "Отзыв: Блюдо было настолько вкусным, что я не мог остановиться, пока всё не съел. Это настоящее произведение искусства.\n",
      "\n",
      "Категория: Отличное блюдо\n",
      "Отзыв: Каждый кусочек этого блюда дарил наслаждение. Прекрасное сочетание текстур и ароматов!\n",
      "\n"
     ]
    }
   ],
   "source": [
    "for review in reviews[:5]:  \n",
    "    print(f\"Категория: {review['category']}\")\n",
    "    print(f\"Отзыв: {review['review']}\\n\")"
   ]
  },
  {
   "cell_type": "code",
   "execution_count": 5,
   "id": "ad0f5ea4-f7a1-4443-b2f4-72b0bc5fecdc",
   "metadata": {},
   "outputs": [],
   "source": [
    "import csv\n",
    "from sklearn.model_selection import train_test_split\n",
    "reviews = []\n",
    "with open(\"dish_reviews.csv\", mode=\"r\", encoding=\"utf-8\") as file:\n",
    "    reader = csv.DictReader(file)\n",
    "    for row in reader:\n",
    "        reviews.append(row)\n",
    "texts = [review[\"review\"] for review in reviews]\n",
    "categories = [review[\"category\"] for review in reviews]\n",
    "texts_train, texts_test, categories_train, categories_test = train_test_split(\n",
    "    texts, categories, test_size=0.2, random_state=42\n",
    ")\n",
    "additional_test_reviews = [\n",
    "    {\"category\": \"Отличное блюдо\", \"review\": \"Это блюдо превзошло все мои ожидания! Нежный вкус и изысканное сочетание специй сделали его незабываемым.\"},\n",
    "    {\"category\": \"Отличное блюдо\", \"review\": \"Я в восторге от этого блюда! Прекрасная подача, аромат и вкус были великолепными.\"},\n",
    "    {\"category\": \"Отличное блюдо\", \"review\": \"Это идеальный пример того, как простые ингредиенты могут создать шедевр. Еда буквально тает во рту.\"},\n",
    "    {\"category\": \"Отличное блюдо\", \"review\": \"Блюдо было настолько вкусным, что я не мог остановиться, пока всё не съел. Это настоящее произведение искусства.\"},\n",
    "    {\"category\": \"Отличное блюдо\", \"review\": \"Каждый кусочек этого блюда дарил наслаждение. Прекрасное сочетание текстур и ароматов!\"},\n",
    "    {\"category\": \"Плохое блюдо\", \"review\": \"Блюдо оказалось пресным и безвкусным. Ожидал большего от такого известного ресторана.\"},\n",
    "    {\"category\": \"Плохое блюдо\", \"review\": \"К сожалению, это блюдо разочаровало. Оно было пересолено и имело неприятный привкус.\"},\n",
    "    {\"category\": \"Плохое блюдо\", \"review\": \"Порция была слишком маленькой, а вкус – ничем не примечательным. Деньги на ветер.\"},\n",
    "    {\"category\": \"Плохое блюдо\", \"review\": \"Мясо было пережарено, а гарнир напоминал вчерашние остатки. Очень разочарован.\"},\n",
    "    {\"category\": \"Плохое блюдо\", \"review\": \"Блюдо выглядело аппетитно, но на вкус оказалось совершенно безвкусным. Разочарование вечера.\"},\n",
    "]\n",
    "texts_test.extend([review[\"review\"] for review in additional_test_reviews])\n",
    "categories_test.extend([review[\"category\"] for review in additional_test_reviews])"
   ]
  },
  {
   "cell_type": "code",
   "execution_count": 6,
   "id": "6dc55c1a-c026-4689-a2ae-0d427d446f42",
   "metadata": {},
   "outputs": [
    {
     "name": "stdout",
     "output_type": "stream",
     "text": [
      "X_train:\n",
      "<16x137 sparse matrix of type '<class 'numpy.int64'>'\n",
      "\twith 178 stored elements in Compressed Sparse Row format>\n"
     ]
    }
   ],
   "source": [
    "from sklearn.feature_extraction.text import CountVectorizer\n",
    "vect = CountVectorizer().fit(texts_train)\n",
    "X_train = vect.transform(texts_train)\n",
    "print(\"X_train:\\n{}\".format(repr(X_train)))"
   ]
  },
  {
   "cell_type": "code",
   "execution_count": 7,
   "id": "2b2ee2d5-ed8b-48f6-ad48-7b03b1335dd0",
   "metadata": {},
   "outputs": [
    {
     "name": "stdout",
     "output_type": "stream",
     "text": [
      "Количество признаков: 137\n",
      "Первые 20 признаков:\n",
      "['аппетитно' 'ароматное' 'ароматов' 'безвкусным' 'блюда' 'блюдо' 'богатым'\n",
      " 'большего' 'браво' 'буквально' 'был' 'была' 'были' 'было' 'великолепно'\n",
      " 'ветер' 'вечера' 'взгляд' 'вкус' 'вкусным']\n"
     ]
    }
   ],
   "source": [
    "feature_names = vect.get_feature_names_out()\n",
    "print(\"Количество признаков: {}\".format(len(feature_names)))\n",
    "print(\"Первые 20 признаков:\\n{}\".format(feature_names[:20]))"
   ]
  },
  {
   "cell_type": "code",
   "execution_count": 8,
   "id": "34174f03-604d-400b-9ce3-b5eab8a8f3e7",
   "metadata": {},
   "outputs": [],
   "source": [
    "stop_words = [\n",
    "    \"блюдо\", \"вкус\", \"было\", \"очень\", \"просто\", \"как\", \"это\", \n",
    "    \"того\", \"таким\", \"всё\", \"его\", \"него\", \"своё\", \"меня\", \n",
    "    \"мои\", \"для\", \"из\", \"лишь\", \"тоже\", \"также\", \"пока\", \n",
    "    \"больше\", \"совсем\", \"дарил\", \"можно\", \"только\", \"великолепно\", \n",
    "    \"плохо\", \"лучшее\", \"отлично\", \"разочарование\", \"приятный\"\n",
    "]"
   ]
  },
  {
   "cell_type": "code",
   "execution_count": 9,
   "id": "f055c0d0-27fa-47ea-bdb6-240e512d6c81",
   "metadata": {},
   "outputs": [
    {
     "name": "stdout",
     "output_type": "stream",
     "text": [
      "Размер словаря после удаления стоп-слов: 122\n",
      "Слова в словаре:\n",
      "['настоящий', 'праздник', 'вкусовых', 'рецепторов', 'сбалансировано', 'тает', 'во', 'рту', 'пожалуй', 'которое', 'пробовал', 'за', 'последнее', 'время', 'браво', 'шеф', 'повару', 'сожалению', 'разочаровало', 'оно', 'пересолено', 'имело', 'неприятный', 'привкус', 'настолько', 'вкусным', 'что', 'не', 'мог', 'остановиться', 'съел', 'настоящее', 'произведение', 'искусства', 'соус', 'был', 'слишком', 'жидким', 'основной', 'ингредиент']\n"
     ]
    }
   ],
   "source": [
    "from sklearn.feature_extraction.text import CountVectorizer\n",
    "vect = CountVectorizer(stop_words=stop_words).fit(texts_train)\n",
    "X_train = vect.transform(texts_train)\n",
    "print(f\"Размер словаря после удаления стоп-слов: {len(vect.vocabulary_)}\")\n",
    "print(f\"Слова в словаре:\\n{list(vect.vocabulary_.keys())[:40]}\")"
   ]
  },
  {
   "cell_type": "code",
   "execution_count": 10,
   "id": "5683e1f6-95a5-4152-a918-f83e9d040042",
   "metadata": {},
   "outputs": [
    {
     "name": "stdout",
     "output_type": "stream",
     "text": [
      "Средняя правильность перекрестной проверки: 0.75\n"
     ]
    }
   ],
   "source": [
    "from sklearn.model_selection import cross_val_score\n",
    "from sklearn.linear_model import LogisticRegression\n",
    "import numpy as np\n",
    "scores = cross_val_score(LogisticRegression(), X_train, categories_train, cv=5)\n",
    "print('Средняя правильность перекрестной проверки: {:.2f}'.format(np.mean(scores)))"
   ]
  },
  {
   "cell_type": "code",
   "execution_count": 11,
   "id": "ebac5947-37cf-4541-9c97-1961a6daf08b",
   "metadata": {},
   "outputs": [
    {
     "name": "stdout",
     "output_type": "stream",
     "text": [
      "Наилучшее значение перекрестной проверки: 0.75\n",
      "Наилучшие параметры: {'C': 1}\n"
     ]
    }
   ],
   "source": [
    "from sklearn.model_selection import GridSearchCV\n",
    "from sklearn.linear_model import LogisticRegression\n",
    "param_grid = {'C': [0.001, 0.01, 0.1, 1, 10]}\n",
    "grid = GridSearchCV(LogisticRegression(max_iter=100), param_grid, cv=5)\n",
    "grid.fit(X_train, categories_train)\n",
    "\n",
    "print(\"Наилучшее значение перекрестной проверки: {:.2f}\".format(grid.best_score_))\n",
    "print(\"Наилучшие параметры:\", grid.best_params_)"
   ]
  },
  {
   "cell_type": "code",
   "execution_count": 12,
   "id": "038c363f-dd78-4001-b561-4e290ed2fc95",
   "metadata": {},
   "outputs": [
    {
     "name": "stdout",
     "output_type": "stream",
     "text": [
      "Правильность на тестовом наборе: 1.00\n",
      "                precision    recall  f1-score   support\n",
      "\n",
      "Отличное блюдо       1.00      1.00      1.00         7\n",
      "  Плохое блюдо       1.00      1.00      1.00         7\n",
      "\n",
      "      accuracy                           1.00        14\n",
      "     macro avg       1.00      1.00      1.00        14\n",
      "  weighted avg       1.00      1.00      1.00        14\n",
      "\n",
      "[[7 0]\n",
      " [0 7]]\n"
     ]
    }
   ],
   "source": [
    "X_test = vect.transform(texts_test)\n",
    "from sklearn.metrics import classification_report, confusion_matrix\n",
    "print(\"Правильность на тестовом наборе: {:.2f}\".format(grid.score(X_test, categories_test)))\n",
    "y_pred = grid.predict(X_test)\n",
    "\n",
    "print(classification_report(categories_test, y_pred))\n",
    "print(confusion_matrix(categories_test, y_pred))"
   ]
  },
  {
   "cell_type": "code",
   "execution_count": 13,
   "id": "bbb5d004-ba77-43c0-9faf-e7cf50cc8af9",
   "metadata": {},
   "outputs": [
    {
     "name": "stdout",
     "output_type": "stream",
     "text": [
      "Наилучшее значение перекрестной проверки: 0.55\n",
      "Точность на тестовом наборе: 0.36\n",
      "                precision    recall  f1-score   support\n",
      "\n",
      "Отличное блюдо       0.38      0.43      0.40         7\n",
      "  Плохое блюдо       0.33      0.29      0.31         7\n",
      "\n",
      "      accuracy                           0.36        14\n",
      "     macro avg       0.35      0.36      0.35        14\n",
      "  weighted avg       0.35      0.36      0.35        14\n",
      "\n",
      "[[3 4]\n",
      " [5 2]]\n"
     ]
    }
   ],
   "source": [
    "from sklearn.feature_extraction.text import TfidfVectorizer\n",
    "from sklearn.pipeline import make_pipeline\n",
    "from sklearn.linear_model import LogisticRegression\n",
    "from sklearn.model_selection import GridSearchCV\n",
    "\n",
    "pipe = make_pipeline(TfidfVectorizer(min_df=5, norm=None), LogisticRegression(max_iter=100))\n",
    "param_grid = {'logisticregression__C': [0.001, 0.01, 0.1, 1, 10]}\n",
    "grid = GridSearchCV(pipe, param_grid, cv=5)\n",
    "grid.fit(texts_train, categories_train)\n",
    "print(\"Наилучшее значение перекрестной проверки: {:.2f}\".format(grid.best_score_))\n",
    "test_score = grid.best_estimator_.score(texts_test, categories_test)\n",
    "print(\"Точность на тестовом наборе: {:.2f}\".format(test_score))\n",
    "\n",
    "y_pred = grid.predict(texts_test)\n",
    "\n",
    "print(classification_report(categories_test, y_pred))\n",
    "print(confusion_matrix(categories_test, y_pred))"
   ]
  },
  {
   "cell_type": "code",
   "execution_count": 14,
   "id": "cbb7978f-63e3-437b-861f-e3ee74ff8933",
   "metadata": {},
   "outputs": [
    {
     "name": "stdout",
     "output_type": "stream",
     "text": [
      "Best cross-validation score: 0.68\n",
      "Best parameters:\n",
      "{'logisticregression__C': 10, 'tfidfvectorizer__ngram_range': (1, 1)}\n"
     ]
    }
   ],
   "source": [
    "from sklearn.feature_extraction.text import TfidfVectorizer\n",
    "from sklearn.pipeline import make_pipeline\n",
    "from sklearn.linear_model import LogisticRegression\n",
    "from sklearn.model_selection import GridSearchCV\n",
    "\n",
    "pipe = make_pipeline(TfidfVectorizer(min_df=1), LogisticRegression())\n",
    "param_grid = {'logisticregression__C': [0.001, 0.01, 0.1, 1, 10, 100],\n",
    "              'tfidfvectorizer__ngram_range': [(1, 1), (1, 2), (1, 3)]}\n",
    "grid = GridSearchCV(pipe, param_grid, cv=5)\n",
    "grid.fit(texts_train, categories_train)\n",
    "print(\"Best cross-validation score: {:.2f}\".format(grid.best_score_))\n",
    "print(\"Best parameters:\\n{}\".format(grid.best_params_))"
   ]
  },
  {
   "cell_type": "code",
   "execution_count": 15,
   "id": "a69b7016-a99d-42dc-848c-25c78d86e476",
   "metadata": {},
   "outputs": [
    {
     "data": {
      "image/png": "[encoded data removed]",
      "text/plain": [
       "<Figure size 640x480 with 2 Axes>"
      ]
     },
     "metadata": {},
     "output_type": "display_data"
    }
   ],
   "source": [
    "import seaborn as sns\n",
    "import matplotlib.pyplot as plt\n",
    "import numpy as np\n",
    "scores = grid.cv_results_['mean_test_score'].reshape(len(param_grid['tfidfvectorizer__ngram_range']), len(param_grid['logisticregression__C']))\n",
    "sns.heatmap(scores, annot=True, fmt=\".3f\", xticklabels=param_grid['logisticregression__C'], yticklabels=param_grid['tfidfvectorizer__ngram_range'], cmap=\"viridis\")\n",
    "plt.xlabel(\"C (Regularization Parameter)\")\n",
    "plt.ylabel(\"ngram_range\")\n",
    "plt.title(\"Grid Search Heatmap\")\n",
    "plt.show()"
   ]
  },
  {
   "cell_type": "code",
   "execution_count": 16,
   "id": "5d3d9d8d-7768-4718-84fd-ac23bf71e73e",
   "metadata": {},
   "outputs": [
    {
     "name": "stdout",
     "output_type": "stream",
     "text": [
      "Точность на тестовом наборе: 0.93\n",
      "                precision    recall  f1-score   support\n",
      "\n",
      "Отличное блюдо       0.88      1.00      0.93         7\n",
      "  Плохое блюдо       1.00      0.86      0.92         7\n",
      "\n",
      "      accuracy                           0.93        14\n",
      "     macro avg       0.94      0.93      0.93        14\n",
      "  weighted avg       0.94      0.93      0.93        14\n",
      "\n",
      "[[7 0]\n",
      " [1 6]]\n"
     ]
    }
   ],
   "source": [
    "test_score = grid.score(texts_test, categories_test)\n",
    "print(\"Точность на тестовом наборе: {:.2f}\".format(test_score))\n",
    "from sklearn.metrics import classification_report, confusion_matrix\n",
    "y_pred = grid.predict(texts_test)\n",
    "print(classification_report(categories_test, y_pred))\n",
    "print(confusion_matrix(categories_test, y_pred))"
   ]
  },
  {
   "cell_type": "markdown",
   "id": "39660484-a9b0-47f9-a1d6-928aea018763",
   "metadata": {},
   "source": [
    "В ходе лабораторной работы я научился работать с текстом с помощью методов машинного обучения для классификации отзывов. Для примера работы я взял отзывы о блюдах, где половина классифицировалась как «отличное блюдо», а половина — как «плохое блюдо». В рамках работы я использовал метод «мешок слов», а также мешок слов с учетом удаления стоп-слов. При помощи логистической регрессии модель показала точность 55% на обучающем наборе и 68% на тестовом наборе. Однако затем удалось достичь точности 93% на тестовом наборе, что, на мой взгляд, связано с тем, что классификация отзывов о блюдах достаточно проста: в текстах встречаются примерно одинаковые слова, выражающие либо восторг, либо разочарование.\n",
    "\n",
    "Далее я попробовал задать параметр min_df=5 для TfidfVectorizer, то есть слово должно минимум 5 раз встречаться в отзывах. Это привело к значительному снижению точности, что объясняется небольшим размером датасета. Скорее всего, отзывы были написаны с использованием большого количества уникальных слов, и такой параметр оказался некорректным для текущих данных. Затем я использовал параметр ngram_range, чтобы определить, сколько слов в комбинации дает наилучшую точность. Оказалось, что использование сочетаний из одного слова (ngram_range=(1, 1)) дает лучший результат, что также связано с малым объемом данных.\n",
    "\n",
    "В конечной модели я указал параметры TfidfVectorizer(min_df=1) и ngram_range=(1, 1). После перебора параметров логистической регрессии наилучший результат показал коэффициент регуляризации C=10. В результате модель достигла точности 68% на обучающем наборе и 93% на тестовом наборе, что выглядит странно.\n",
    "\n",
    "Тем не менее, данная модель не подходит для классификации реальных отзывов. Это связано с крайне малым размером обучающего датасета, отсутствием учета различных стилей речи, диалектов и эпитетов. Если бы модель предсказывала реальный отзыв, написанный человеком вручную, точность была бы гораздо ниже."
   ]
  }
 ],
 "metadata": {
  "kernelspec": {
   "display_name": "Python 3 (ipykernel)",
   "language": "python",
   "name": "python3"
  },
  "language_info": {
   "codemirror_mode": {
    "name": "ipython",
    "version": 3
   },
   "file_extension": ".py",
   "mimetype": "text/x-python",
   "name": "python",
   "nbconvert_exporter": "python",
   "pygments_lexer": "ipython3",
   "version": "3.9.13"
  }
 },
 "nbformat": 4,
 "nbformat_minor": 5
}
