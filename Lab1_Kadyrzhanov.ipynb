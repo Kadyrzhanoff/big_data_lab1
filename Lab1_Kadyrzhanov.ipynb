{
 "cells": [
  {
   "cell_type": "code",
   "execution_count": 1,
   "id": "1a1cb1fe-3496-449d-a542-486155485a2b",
   "metadata": {},
   "outputs": [
    {
     "name": "stdout",
     "output_type": "stream",
     "text": [
      "hi\n"
     ]
    }
   ],
   "source": [
    "print(\"hi\")"
   ]
  },
  {
   "cell_type": "code",
   "execution_count": 2,
   "id": "32cdfc75-ba6d-4ff6-934f-3c7af3d8224f",
   "metadata": {},
   "outputs": [
    {
     "name": "stdout",
     "output_type": "stream",
     "text": [
      "6\n"
     ]
    }
   ],
   "source": [
    "i = 6;\n",
    "print(i)"
   ]
  },
  {
   "cell_type": "code",
   "execution_count": 3,
   "id": "8076d6d7-52b7-403b-a10e-1e31d6224100",
   "metadata": {},
   "outputs": [
    {
     "name": "stdout",
     "output_type": "stream",
     "text": [
      "<class 'int'>\n"
     ]
    }
   ],
   "source": [
    "a = 6;\n",
    "t = type(a);\n",
    "print(t)"
   ]
  },
  {
   "cell_type": "code",
   "execution_count": 4,
   "id": "ad72a669-ff15-4d8a-9411-3f77a39ed3db",
   "metadata": {},
   "outputs": [
    {
     "name": "stdout",
     "output_type": "stream",
     "text": [
      "{'boo': 2.34, 'car': 5, 's': 'My seconddictionary'}\n"
     ]
    }
   ],
   "source": [
    "d = {'boo' : 2.34, 'car' : 5, 's' : 'My seconddictionary'}\n",
    "print(d)"
   ]
  },
  {
   "cell_type": "code",
   "execution_count": 6,
   "id": "9f7d6586-a79b-4879-ac1c-f38586859236",
   "metadata": {},
   "outputs": [
    {
     "name": "stdout",
     "output_type": "stream",
     "text": [
      "Возведение 11 в квадрат 121.0\n"
     ]
    }
   ],
   "source": [
    "import math\n",
    "p = math.pow(11, 2)\n",
    "print(\"Возведение 11 в квадрат\", p)"
   ]
  },
  {
   "cell_type": "code",
   "execution_count": 8,
   "id": "b943fad2-882a-449e-9f64-bb09c94889ba",
   "metadata": {},
   "outputs": [
    {
     "name": "stdout",
     "output_type": "stream",
     "text": [
      "Our first value is False. Our second value is 11.\n"
     ]
    }
   ],
   "source": [
    "i = 11\n",
    "p = False\n",
    "print('Our first value is %s. Our second value is %s.' %(p, i))"
   ]
  },
  {
   "cell_type": "code",
   "execution_count": 10,
   "id": "8fc93361-ad2d-4db3-b90d-b2243cdfda8c",
   "metadata": {},
   "outputs": [
    {
     "name": "stdout",
     "output_type": "stream",
     "text": [
      "Оба p и i меньше 1\n"
     ]
    }
   ],
   "source": [
    "i = 3\n",
    "p = 2\n",
    "if i == 1 and p == 1:\n",
    "    print(\"Оба p и i равны 1\")\n",
    "elif i < 1 and p < 1:\n",
    "    print(\"Оба p и i больше 1\")\n",
    "else: \n",
    "    print(\"Оба p и i меньше 1\")"
   ]
  },
  {
   "cell_type": "code",
   "execution_count": 11,
   "id": "691779c6-f4df-4433-ab55-183a23751121",
   "metadata": {},
   "outputs": [
    {
     "name": "stdout",
     "output_type": "stream",
     "text": [
      "[1, 2, 3]\n"
     ]
    }
   ],
   "source": [
    "A = [1, 2, 3]\n",
    "print(A)"
   ]
  },
  {
   "cell_type": "code",
   "execution_count": 12,
   "id": "6626345b-70ff-440e-a6a2-f3c678e897e5",
   "metadata": {},
   "outputs": [
    {
     "name": "stdout",
     "output_type": "stream",
     "text": [
      "1\n",
      "2\n",
      "3\n"
     ]
    }
   ],
   "source": [
    "for i in A:\n",
    "    print(i)"
   ]
  },
  {
   "cell_type": "code",
   "execution_count": 13,
   "id": "eec2af68-2057-484c-9c69-9f1e4c5ea655",
   "metadata": {},
   "outputs": [
    {
     "name": "stdout",
     "output_type": "stream",
     "text": [
      "Числа от 1 до 10: 0\n",
      "Числа от 1 до 10: 1\n",
      "Числа от 1 до 10: 2\n",
      "Числа от 1 до 10: 3\n",
      "Числа от 1 до 10: 4\n",
      "Числа от 1 до 10: 5\n",
      "Числа от 1 до 10: 6\n",
      "Числа от 1 до 10: 7\n",
      "Числа от 1 до 10: 8\n",
      "Числа от 1 до 10: 9\n"
     ]
    }
   ],
   "source": [
    "for n in range(10):\n",
    "    print(\"Числа от 1 до 10:\", n)"
   ]
  },
  {
   "cell_type": "code",
   "execution_count": 15,
   "id": "71127fbe-4e7c-4a13-9e66-c435d64acce7",
   "metadata": {},
   "outputs": [
    {
     "name": "stdout",
     "output_type": "stream",
     "text": [
      "Числа от 1 до 10: 0\n",
      "Числа от 1 до 10: 1\n",
      "Числа от 1 до 10: 2\n",
      "Числа от 1 до 10: 3\n",
      "Числа от 1 до 10: 4\n",
      "Числа от 1 до 10: 5\n",
      "Числа от 1 до 10: 6\n",
      "Числа от 1 до 10: 7\n",
      "Числа от 1 до 10: 8\n",
      "Числа от 1 до 10: 9\n"
     ]
    }
   ],
   "source": [
    "import time \n",
    "for i in range(10):\n",
    "    time.sleep(1)\n",
    "    print(\"Числа от 1 до 10:\", i)"
   ]
  },
  {
   "cell_type": "code",
   "execution_count": 16,
   "id": "29d15c5d-993b-40ef-8521-ca1ca7b5ab4f",
   "metadata": {},
   "outputs": [],
   "source": [
    "def div2(x):\n",
    "    y = x - 2\n",
    "    return y"
   ]
  },
  {
   "cell_type": "code",
   "execution_count": 17,
   "id": "74098854-cca6-450c-9fa9-7d5c63811ce0",
   "metadata": {},
   "outputs": [],
   "source": [
    "i = 7"
   ]
  },
  {
   "cell_type": "code",
   "execution_count": 18,
   "id": "6d98f570-0deb-426a-b9b8-fd4fe7402140",
   "metadata": {},
   "outputs": [
    {
     "data": {
      "text/plain": [
       "5"
      ]
     },
     "execution_count": 18,
     "metadata": {},
     "output_type": "execute_result"
    }
   ],
   "source": [
    "div2(i)"
   ]
  },
  {
   "cell_type": "code",
   "execution_count": 19,
   "id": "92e80cbf-5b77-43ec-85a8-35dc6b87d2e2",
   "metadata": {},
   "outputs": [
    {
     "name": "stdout",
     "output_type": "stream",
     "text": [
      "15\n"
     ]
    }
   ],
   "source": [
    "x = lambda x, y : x + y\n",
    "print(x(7, 8))"
   ]
  },
  {
   "cell_type": "markdown",
   "id": "a2a22542-6582-492a-a833-8bdcec660c3b",
   "metadata": {},
   "source": [
    "<h1> Privet 1 </h1>\n",
    "<h2> Privet 2 </h2>\n",
    "<h3> Privet 3 </h3>\n",
    "<h4> Privet 4 </h4>\n",
    "<h5> Privet 5 </h5>\n",
    "<h6> Privet 6 </h6>"
   ]
  },
  {
   "cell_type": "markdown",
   "id": "3bb67e36-9fdd-43e6-a293-c30c772feec1",
   "metadata": {},
   "source": [
    "<img src = 'leff.jpg' width = '800'>"
   ]
  },
  {
   "cell_type": "markdown",
   "id": "10cb8734-b5cc-41ad-9692-ac49f6008203",
   "metadata": {},
   "source": [
    "\\begin{equation*}\n",
    "\\(P=mg\\)\n",
    "\\end{equation*}"
   ]
  },
  {
   "cell_type": "code",
   "execution_count": 26,
   "id": "fb7d9f20-a2be-444e-83f9-c70ef109b99d",
   "metadata": {},
   "outputs": [
    {
     "name": "stdout",
     "output_type": "stream",
     "text": [
      "\n",
      "Ќ бва®©Є  Їа®в®Є®«  IP ¤«п Windows\n",
      "\n",
      "\n",
      "Ђ¤ ЇвҐа Ethernet Ethernet:\n",
      "\n",
      "   ‘®бв®п­ЁҐ баҐ¤л. . . . . . . . : ‘аҐ¤  ЇҐаҐ¤ зЁ ­Ґ¤®бвгЇ­ .\n",
      "   DNS-бгддЁЄб Ї®¤Є«озҐ­Ёп . . . . . : \n",
      "\n",
      "Ђ¤ ЇвҐа ЎҐбЇа®ў®¤­®© «®Є «м­®© бҐвЁ Џ®¤Є«озҐ­ЁҐ Ї® «®Є «м­®© бҐвЁ* 9:\n",
      "\n",
      "   ‘®бв®п­ЁҐ баҐ¤л. . . . . . . . : ‘аҐ¤  ЇҐаҐ¤ зЁ ­Ґ¤®бвгЇ­ .\n",
      "   DNS-бгддЁЄб Ї®¤Є«озҐ­Ёп . . . . . : \n",
      "\n",
      "Ђ¤ ЇвҐа ЎҐбЇа®ў®¤­®© «®Є «м­®© бҐвЁ Џ®¤Є«озҐ­ЁҐ Ї® «®Є «м­®© бҐвЁ* 10:\n",
      "\n",
      "   ‘®бв®п­ЁҐ баҐ¤л. . . . . . . . : ‘аҐ¤  ЇҐаҐ¤ зЁ ­Ґ¤®бвгЇ­ .\n",
      "   DNS-бгддЁЄб Ї®¤Є«озҐ­Ёп . . . . . : \n",
      "\n",
      "Ђ¤ ЇвҐа Ethernet ‘ҐвҐў®Ґ Ї®¤Є«озҐ­ЁҐ Bluetooth:\n",
      "\n",
      "   ‘®бв®п­ЁҐ баҐ¤л. . . . . . . . : ‘аҐ¤  ЇҐаҐ¤ зЁ ­Ґ¤®бвгЇ­ .\n",
      "   DNS-бгддЁЄб Ї®¤Є«озҐ­Ёп . . . . . : \n",
      "\n",
      "Ђ¤ ЇвҐа ЎҐбЇа®ў®¤­®© «®Є «м­®© бҐвЁ ЃҐбЇа®ў®¤­ п бҐвм:\n",
      "\n",
      "   DNS-бгддЁЄб Ї®¤Є«озҐ­Ёп . . . . . : \n",
      "   ‹®Є «м­л© IPv6- ¤аҐб Є ­ «  . . . : fe80::3457:59bb:baf1:8253%15\n",
      "   IPv4- ¤аҐб. . . . . . . . . . . . : 192.168.88.74\n",
      "   Њ бЄ  Ї®¤бҐвЁ . . . . . . . . . . : 255.255.255.0\n",
      "   Ћб­®ў­®© и«о§. . . . . . . . . : 192.168.88.1\n"
     ]
    }
   ],
   "source": [
    "! ipconfig"
   ]
  },
  {
   "cell_type": "code",
   "execution_count": 32,
   "id": "cb251729-0940-45d0-a196-c6e4b8d5d34f",
   "metadata": {},
   "outputs": [
    {
     "name": "stdout",
     "output_type": "stream",
     "text": [
      "\n",
      "ЋЎ¬Ґ­ Ї ЄҐв ¬Ё б google.com [216.58.211.238] б 32 Ў ©в ¬Ё ¤ ­­ле:\n",
      "ЏаҐўлиҐ­ Ё­вҐаў « ®¦Ё¤ ­Ёп ¤«п § Їа®б .\n",
      "ЏаҐўлиҐ­ Ё­вҐаў « ®¦Ё¤ ­Ёп ¤«п § Їа®б .\n",
      "ЏаҐўлиҐ­ Ё­вҐаў « ®¦Ё¤ ­Ёп ¤«п § Їа®б .\n",
      "ЏаҐўлиҐ­ Ё­вҐаў « ®¦Ё¤ ­Ёп ¤«п § Їа®б .\n",
      "\n",
      "‘в вЁбвЁЄ  Ping ¤«п 216.58.211.238:\n",
      "    Џ ЄҐв®ў: ®вЇа ў«Ґ­® = 4, Ї®«гзҐ­® = 0, Ї®вҐап­® = 4\n",
      "    (100% Ї®вҐам)\n"
     ]
    }
   ],
   "source": [
    "! ping google.com"
   ]
  },
  {
   "cell_type": "code",
   "execution_count": 33,
   "id": "da2ca4e9-8c0d-4c2f-9af1-4938c5d4f7d4",
   "metadata": {},
   "outputs": [],
   "source": [
    "import math\n",
    "\n",
    "def function(t, x):\n",
    "    chisl = 9 * math.pi * t + 10 * math.cos(x)\n",
    "    znam = math.sqrt(t) - math.sin(x)\n",
    "    if znam == 0:\n",
    "        return float('inf')\n",
    "    sec_cahst = math.exp(-2 * t)\n",
    "    \n",
    "    result = (chisl / znam) * sec_chast\n",
    "    return result"
   ]
  },
  {
   "cell_type": "code",
   "execution_count": 38,
   "id": "41cb4664-e4f1-435d-8a6f-899cabc7702f",
   "metadata": {},
   "outputs": [
    {
     "name": "stdout",
     "output_type": "stream",
     "text": [
      "Первое число входит в дипаозон\n",
      "Второе число входит в дипаозон\n"
     ]
    }
   ],
   "source": [
    "def diap(a, b, c):\n",
    "    if(1 < a and a < 100):\n",
    "        print(\"Первое число входит в дипаозон\")\n",
    "    if(1 < b and b < 100):\n",
    "        print(\"Второе число входит в дипаозон\")\n",
    "    if(1 < c and c < 100):\n",
    "        print(\"Третье число входит в дипаозон\")\n",
    "diap(99,22,0)"
   ]
  },
  {
   "cell_type": "code",
   "execution_count": 40,
   "id": "aba3b253-d167-4dd2-81ec-d6d1fa3fb6f1",
   "metadata": {},
   "outputs": [
    {
     "name": "stdout",
     "output_type": "stream",
     "text": [
      "Рандомное число от 1 до 20 под номером  1  равно  4\n",
      "Рандомное число от 1 до 20 под номером  2  равно  10\n",
      "Рандомное число от 1 до 20 под номером  3  равно  6\n",
      "Рандомное число от 1 до 20 под номером  4  равно  4\n",
      "Рандомное число от 1 до 20 под номером  5  равно  3\n",
      "Рандомное число от 1 до 20 под номером  6  равно  4\n",
      "Рандомное число от 1 до 20 под номером  7  равно  10\n",
      "Рандомное число от 1 до 20 под номером  8  равно  1\n",
      "Рандомное число от 1 до 20 под номером  9  равно  5\n",
      "Рандомное число от 1 до 20 под номером  10  равно  3\n",
      "Рандомное число от 1 до 20 под номером  11  равно  5\n",
      "Рандомное число от 1 до 20 под номером  12  равно  4\n",
      "Рандомное число от 1 до 20 под номером  13  равно  5\n",
      "Рандомное число от 1 до 20 под номером  14  равно  8\n",
      "Рандомное число от 1 до 20 под номером  15  равно  3\n",
      "Рандомное число от 1 до 20 под номером  16  равно  8\n",
      "Рандомное число от 1 до 20 под номером  17  равно  6\n",
      "Рандомное число от 1 до 20 под номером  18  равно  5\n",
      "Рандомное число от 1 до 20 под номером  19  равно  5\n",
      "Рандомное число от 1 до 20 под номером  20  равно  4\n"
     ]
    }
   ],
   "source": [
    "import random\n",
    "\n",
    "i = 1\n",
    "while i <= 20:\n",
    "    print('Рандомное число от 1 до 20 под номером ',i,' равно ',random.randint(1, 10))\n",
    "    i = i + 1"
   ]
  },
  {
   "cell_type": "code",
   "execution_count": 4,
   "id": "97634cd1-6dcb-4bdc-8783-d9e3be2634b8",
   "metadata": {},
   "outputs": [
    {
     "name": "stdout",
     "output_type": "stream",
     "text": [
      "12.336875777899134\n"
     ]
    }
   ],
   "source": [
    "a=1\n",
    "b=2\n",
    "c=3\n",
    "p=0\n",
    "while a<21:\n",
    "   p=p+(a/(b+c))\n",
    "   a=a+1\n",
    "   b=b+1\n",
    "   c=c+1\n",
    "print(p)"
   ]
  },
  {
   "cell_type": "code",
   "execution_count": null,
   "id": "4a1e5007-aaa1-43e9-ab05-1554d7307df3",
   "metadata": {},
   "outputs": [],
   "source": [
    "1.Почему для работы с большими данными и для машинного обучения выбирают язык Python? Перечислите не менее трех причин.\n",
    "1)простой язык сценариев, который упрощает взаимодействие с данными\n",
    "2)имеет широкий спектр пакетов, которые упрощают начало работы и создание приложений, от самых простых до самых сложных.\n",
    "3)Python широко используется в промышленности\n",
    "2.В чем особенности среды Jupyter Notebook, почему ее выбирают специалисты по Data Science? \n",
    "\n",
    "3.Перечислите основные библиотеки Python для машинного обучения.\n",
    "Pandas, Scipy, Matplotlib, Numpy\n",
    "4.Какие типы данных Python вы знаете?\n",
    "int - целые числа\n",
    "float - вещественные числа\n",
    "str - строка\n",
    "list - список\n",
    "tuple - кортеж\n",
    "dict - словарь\n",
    "bool - тип данных буллеан( true, false)\n",
    "NonetType - отсутствие значения\n",
    "5. Назовите основные языковые конструкции Python.\n",
    "условные операторы - if,else, elif\n",
    "циклы - for, while\n",
    "операторы создания функций - def, lambda\n",
    "6.Какое назначение у оператора if … else?\n",
    "создание условия и проверка его на истиность или ложность( например нужно узнать больше ли переменная а какого-то числа, если да то умножить его, если нет то разделить, в это случае нам понадобиться if и else для проверки условия больше/меньше и для обазанчаения дальнейших действий)\n",
    "7.Когда заканчивается выполнение оператора while?\n",
    "когда условие цикла становится ложным или когда вы вручную внутри цикла закрываете его\n",
    "8.Какие способы задания функций есть в Python?\n",
    "обычная функция с помощью ключевое слово def\n",
    "анонимная функция с помощью ключевого слова lambda\n",
    "9.Что такое Лямбда-функция?\n",
    "Лямбда-функция — это небольшая анонимная функция.\n",
    "Лямбда-функция может принимать любое количество аргументов, но иметь только одно выражение.\n",
    "10.Какая библиотека Python отвечает за выполнение основным математических функций?\n",
    "библиотека math\n",
    "11.Назовите дополнительные возможности использования среды Jupyter Notebook.\n",
    "В Jyputer Notebook можно внедрять теги языка разметки html и назначать им стили.\n",
    "Вставка математических формул с помощью встроенного редактора TeX.\n",
    "Выполнение команд консоли."
   ]
  }
 ],
 "metadata": {
  "kernelspec": {
   "display_name": "Python 3 (ipykernel)",
   "language": "python",
   "name": "python3"
  },
  "language_info": {
   "codemirror_mode": {
    "name": "ipython",
    "version": 3
   },
   "file_extension": ".py",
   "mimetype": "text/x-python",
   "name": "python",
   "nbconvert_exporter": "python",
   "pygments_lexer": "ipython3",
   "version": "3.9.13"
  }
 },
 "nbformat": 4,
 "nbformat_minor": 5
}
